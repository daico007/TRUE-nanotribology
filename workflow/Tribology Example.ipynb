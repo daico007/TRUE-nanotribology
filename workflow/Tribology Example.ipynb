{
 "cells": [
  {
   "cell_type": "markdown",
   "metadata": {},
   "source": [
    "## Example of TRUE nanotribological properties workflow\n",
    "\n",
    "### Background\n",
    "- Using SAM as coating to reduce coefficient of friction and force of adhesion when shearing between two surface\n",
    "- Many variables that can be varied and, hence, makes it a prime candidate for Computational Simulation\n",
    "- Several MD studies focusing on different properties\n",
    "    - Andrew Paper: backbone chain length, chain density, terminal groups\n",
    "    - Current screening project: mixed composition \n",
    "    - Near future project: backbone chemitries\n",
    "- The legacy encourage this research setup to be TRUE\n",
    "    - Future research can continue this project by varing and/or adding more variables based on the original project\n",
    "    \n",
    "### Model\n",
    "- Initialization of two surfaces coated with SAM - varying mixing composition, backbone chainlength, terminal groups\n",
    "- Two surface was then energy minimized through a few steps (by LAMMPS and GROMACS)\n",
    "- The two system is then compressed and sheared against each other (the top surface moving, and the bottom surface fixed)\n",
    "- The output is analyzed with mdanalysis\n",
    "\n",
    "### Simulation Details\n",
    "- Initialze by MoSDeF\n",
    "- Fix overlaps by LAMMPS\n",
    "- Energy Minimize by GROMACS\n",
    "- NVT Equilibrate by GROMACS\n",
    "- Compress by GROMACS\n",
    "- Shearing at 5nN, 15nN, 25nN by GROMACS\n",
    "- Data Analysis with mdanalysis"
   ]
  },
  {
   "cell_type": "markdown",
   "metadata": {},
   "source": [
    "#### System initialization"
   ]
  },
  {
   "cell_type": "code",
   "execution_count": 1,
   "metadata": {},
   "outputs": [],
   "source": [
    "import mbuild\n",
    "from util.helper.functions import system_builder"
   ]
  },
  {
   "cell_type": "code",
   "execution_count": 2,
   "metadata": {},
   "outputs": [
    {
     "name": "stdout",
     "output_type": "stream",
     "text": [
      "/Users/daico007/Documents/Papers/TRUE/TRUE-nanotribology/workflow/example_simulation\n"
     ]
    }
   ],
   "source": [
    "# Change into working directory\n",
    "%cd example_simulation"
   ]
  },
  {
   "cell_type": "code",
   "execution_count": 3,
   "metadata": {
    "scrolled": false
   },
   "outputs": [
    {
     "name": "stderr",
     "output_type": "stream",
     "text": [
      "\n",
      "\u001b[91m####################################################################\u001b[0m\n",
      "\n",
      "The code at compound.py:86 requires the \"openbabel\" package\n",
      "\n",
      "openbabel can be installed with conda using:\n",
      "\n",
      "# conda install -c conda-forge openbabel\n",
      "\n",
      "or from source following instructions at:\n",
      "\n",
      "# http://openbabel.org/docs/current/UseTheLibrary/PythonInstall.html\n",
      "\n",
      "\u001b[91m####################################################################\u001b[0m\n",
      "\n",
      "\u001b[91m####################################################################\u001b[0m\n",
      "\n",
      "The code at compound.py:86 requires the \"openbabel\" package\n",
      "\n",
      "openbabel can be installed with conda using:\n",
      "\n",
      "# conda install -c conda-forge openbabel\n",
      "\n",
      "or from source following instructions at:\n",
      "\n",
      "# http://openbabel.org/docs/current/UseTheLibrary/PythonInstall.html\n",
      "\n",
      "\u001b[91m####################################################################\u001b[0m\n",
      "\n",
      "\u001b[91m####################################################################\u001b[0m\n",
      "\n",
      "The code at compound.py:86 requires the \"openbabel\" package\n",
      "\n",
      "openbabel can be installed with conda using:\n",
      "\n",
      "# conda install -c conda-forge openbabel\n",
      "\n",
      "or from source following instructions at:\n",
      "\n",
      "# http://openbabel.org/docs/current/UseTheLibrary/PythonInstall.html\n",
      "\n",
      "\u001b[91m####################################################################\u001b[0m\n",
      "\n",
      "\u001b[91m####################################################################\u001b[0m\n",
      "\n",
      "The code at compound.py:86 requires the \"openbabel\" package\n",
      "\n",
      "openbabel can be installed with conda using:\n",
      "\n",
      "# conda install -c conda-forge openbabel\n",
      "\n",
      "or from source following instructions at:\n",
      "\n",
      "# http://openbabel.org/docs/current/UseTheLibrary/PythonInstall.html\n",
      "\n",
      "\u001b[91m####################################################################\u001b[0m\n",
      "\n",
      "\u001b[91m####################################################################\u001b[0m\n",
      "\n",
      "The code at compound.py:86 requires the \"openbabel\" package\n",
      "\n",
      "openbabel can be installed with conda using:\n",
      "\n",
      "# conda install -c conda-forge openbabel\n",
      "\n",
      "or from source following instructions at:\n",
      "\n",
      "# http://openbabel.org/docs/current/UseTheLibrary/PythonInstall.html\n",
      "\n",
      "\u001b[91m####################################################################\u001b[0m\n",
      "\n",
      "\u001b[91m####################################################################\u001b[0m\n",
      "\n",
      "The code at compound.py:86 requires the \"openbabel\" package\n",
      "\n",
      "openbabel can be installed with conda using:\n",
      "\n",
      "# conda install -c conda-forge openbabel\n",
      "\n",
      "or from source following instructions at:\n",
      "\n",
      "# http://openbabel.org/docs/current/UseTheLibrary/PythonInstall.html\n",
      "\n",
      "\u001b[91m####################################################################\u001b[0m\n",
      "\n",
      "\u001b[91m####################################################################\u001b[0m\n",
      "\n",
      "The code at compound.py:86 requires the \"openbabel\" package\n",
      "\n",
      "openbabel can be installed with conda using:\n",
      "\n",
      "# conda install -c conda-forge openbabel\n",
      "\n",
      "or from source following instructions at:\n",
      "\n",
      "# http://openbabel.org/docs/current/UseTheLibrary/PythonInstall.html\n",
      "\n",
      "\u001b[91m####################################################################\u001b[0m\n",
      "\n",
      "\u001b[91m####################################################################\u001b[0m\n",
      "\n",
      "The code at compound.py:86 requires the \"openbabel\" package\n",
      "\n",
      "openbabel can be installed with conda using:\n",
      "\n",
      "# conda install -c conda-forge openbabel\n",
      "\n",
      "or from source following instructions at:\n",
      "\n",
      "# http://openbabel.org/docs/current/UseTheLibrary/PythonInstall.html\n",
      "\n",
      "\u001b[91m####################################################################\u001b[0m\n",
      "/Users/daico007/Documents/Papers/TRUE/TRUE-nanotribology/workflow/util/helper/recipes/monolayer.py:82: UserWarning: \n",
      " No fractions provided. Assuming a single chain type.\n",
      "  warn(\"\\n No fractions provided. Assuming a single chain type.\")\n",
      "/Users/daico007/Documents/Papers/TRUE/TRUE-nanotribology/workflow/util/helper/recipes/monolayer.py:85: UserWarning: \n",
      " Adding 100 of chain <Alkylsilane 60 particles, non-periodic, 59 bonds, id: 4715627296>\n",
      "  warn(\"\\n Adding {} of chain {}\".format(len(pattern), chains[-1]))\n",
      "/Users/daico007/Documents/Papers/TRUE/TRUE-nanotribology/workflow/util/helper/recipes/monolayer.py:85: UserWarning: \n",
      " Adding 100 of chain <Alkylsilane 60 particles, non-periodic, 59 bonds, id: 4442079128>\n",
      "  warn(\"\\n Adding {} of chain {}\".format(len(pattern), chains[-1]))\n",
      "/Users/daico007/anaconda3/envs/true36/lib/python3.6/site-packages/foyer/validator.py:132: ValidationWarning: You have empty smart definition(s)\n",
      "  warn(\"You have empty smart definition(s)\", ValidationWarning)\n"
     ]
    },
    {
     "ename": "FoyerError",
     "evalue": "Found no types for atom 46 (osmium).",
     "output_type": "error",
     "traceback": [
      "\u001b[0;31m---------------------------------------------------------------------------\u001b[0m",
      "\u001b[0;31mFoyerError\u001b[0m                                Traceback (most recent call last)",
      "\u001b[0;32m<ipython-input-3-abd97bbe4ac8>\u001b[0m in \u001b[0;36m<module>\u001b[0;34m\u001b[0m\n\u001b[0;32m----> 1\u001b[0;31m \u001b[0mstructure\u001b[0m \u001b[0;34m=\u001b[0m \u001b[0msystem_builder\u001b[0m\u001b[0;34m(\u001b[0m\u001b[0mseed\u001b[0m\u001b[0;34m=\u001b[0m\u001b[0;36m1\u001b[0m\u001b[0;34m)\u001b[0m\u001b[0;34m\u001b[0m\u001b[0;34m\u001b[0m\u001b[0m\n\u001b[0m",
      "\u001b[0;32m~/Documents/Papers/TRUE/TRUE-nanotribology/workflow/util/helper/functions.py\u001b[0m in \u001b[0;36msystem_builder\u001b[0;34m(seed, chainlength, backbone, terminal_group, num_chains)\u001b[0m\n\u001b[1;32m     98\u001b[0m         )\n\u001b[1;32m     99\u001b[0m     \u001b[0mff\u001b[0m \u001b[0;34m=\u001b[0m \u001b[0mForcefield\u001b[0m\u001b[0;34m(\u001b[0m\u001b[0mforcefield_files\u001b[0m\u001b[0;34m=\u001b[0m\u001b[0mforcefield_filepath\u001b[0m\u001b[0;34m)\u001b[0m\u001b[0;34m\u001b[0m\u001b[0;34m\u001b[0m\u001b[0m\n\u001b[0;32m--> 100\u001b[0;31m     \u001b[0mstructure\u001b[0m \u001b[0;34m=\u001b[0m \u001b[0mff\u001b[0m\u001b[0;34m.\u001b[0m\u001b[0mapply\u001b[0m\u001b[0;34m(\u001b[0m\u001b[0mstructure\u001b[0m\u001b[0;34m)\u001b[0m\u001b[0;34m\u001b[0m\u001b[0;34m\u001b[0m\u001b[0m\n\u001b[0m\u001b[1;32m    101\u001b[0m     \u001b[0mstructure\u001b[0m\u001b[0;34m.\u001b[0m\u001b[0mcombining_rule\u001b[0m \u001b[0;34m=\u001b[0m \u001b[0;34m\"geometric\"\u001b[0m\u001b[0;34m\u001b[0m\u001b[0;34m\u001b[0m\u001b[0m\n\u001b[1;32m    102\u001b[0m \u001b[0;34m\u001b[0m\u001b[0m\n",
      "\u001b[0;32m~/anaconda3/envs/true36/lib/python3.6/site-packages/foyer/forcefield.py\u001b[0m in \u001b[0;36mapply\u001b[0;34m(self, topology, references_file, use_residue_map, assert_bond_params, assert_angle_params, assert_dihedral_params, assert_improper_params, combining_rule, verbose, *args, **kwargs)\u001b[0m\n\u001b[1;32m    491\u001b[0m         \u001b[0mtopology\u001b[0m\u001b[0;34m,\u001b[0m \u001b[0mpositions\u001b[0m \u001b[0;34m=\u001b[0m \u001b[0mself\u001b[0m\u001b[0;34m.\u001b[0m\u001b[0m_prepare_topology\u001b[0m\u001b[0;34m(\u001b[0m\u001b[0mtopology\u001b[0m\u001b[0;34m,\u001b[0m \u001b[0;34m**\u001b[0m\u001b[0mkwargs\u001b[0m\u001b[0;34m)\u001b[0m\u001b[0;34m\u001b[0m\u001b[0;34m\u001b[0m\u001b[0m\n\u001b[1;32m    492\u001b[0m \u001b[0;34m\u001b[0m\u001b[0m\n\u001b[0;32m--> 493\u001b[0;31m         \u001b[0mtypemap\u001b[0m \u001b[0;34m=\u001b[0m \u001b[0mself\u001b[0m\u001b[0;34m.\u001b[0m\u001b[0mrun_atomtyping\u001b[0m\u001b[0;34m(\u001b[0m\u001b[0mtopology\u001b[0m\u001b[0;34m,\u001b[0m \u001b[0muse_residue_map\u001b[0m\u001b[0;34m=\u001b[0m\u001b[0muse_residue_map\u001b[0m\u001b[0;34m)\u001b[0m\u001b[0;34m\u001b[0m\u001b[0;34m\u001b[0m\u001b[0m\n\u001b[0m\u001b[1;32m    494\u001b[0m \u001b[0;34m\u001b[0m\u001b[0m\n\u001b[1;32m    495\u001b[0m         \u001b[0mself\u001b[0m\u001b[0;34m.\u001b[0m\u001b[0m_apply_typemap\u001b[0m\u001b[0;34m(\u001b[0m\u001b[0mtopology\u001b[0m\u001b[0;34m,\u001b[0m \u001b[0mtypemap\u001b[0m\u001b[0;34m)\u001b[0m\u001b[0;34m\u001b[0m\u001b[0;34m\u001b[0m\u001b[0m\n",
      "\u001b[0;32m~/anaconda3/envs/true36/lib/python3.6/site-packages/foyer/forcefield.py\u001b[0m in \u001b[0;36mrun_atomtyping\u001b[0;34m(self, topology, use_residue_map)\u001b[0m\n\u001b[1;32m    527\u001b[0m                     \u001b[0;32mif\u001b[0m \u001b[0mres\u001b[0m\u001b[0;34m.\u001b[0m\u001b[0mname\u001b[0m \u001b[0;32mnot\u001b[0m \u001b[0;32min\u001b[0m \u001b[0mresidue_map\u001b[0m\u001b[0;34m.\u001b[0m\u001b[0mkeys\u001b[0m\u001b[0;34m(\u001b[0m\u001b[0;34m)\u001b[0m\u001b[0;34m:\u001b[0m\u001b[0;34m\u001b[0m\u001b[0;34m\u001b[0m\u001b[0m\n\u001b[1;32m    528\u001b[0m                         \u001b[0mresidue\u001b[0m \u001b[0;34m=\u001b[0m \u001b[0m_topology_from_residue\u001b[0m\u001b[0;34m(\u001b[0m\u001b[0mres\u001b[0m\u001b[0;34m)\u001b[0m\u001b[0;34m\u001b[0m\u001b[0;34m\u001b[0m\u001b[0m\n\u001b[0;32m--> 529\u001b[0;31m                         \u001b[0mtypemap\u001b[0m \u001b[0;34m=\u001b[0m \u001b[0mfind_atomtypes\u001b[0m\u001b[0;34m(\u001b[0m\u001b[0mresidue\u001b[0m\u001b[0;34m,\u001b[0m \u001b[0mforcefield\u001b[0m\u001b[0;34m=\u001b[0m\u001b[0mself\u001b[0m\u001b[0;34m)\u001b[0m\u001b[0;34m\u001b[0m\u001b[0;34m\u001b[0m\u001b[0m\n\u001b[0m\u001b[1;32m    530\u001b[0m                         \u001b[0mresidue_map\u001b[0m\u001b[0;34m[\u001b[0m\u001b[0mres\u001b[0m\u001b[0;34m.\u001b[0m\u001b[0mname\u001b[0m\u001b[0;34m]\u001b[0m \u001b[0;34m=\u001b[0m \u001b[0mtypemap\u001b[0m\u001b[0;34m\u001b[0m\u001b[0;34m\u001b[0m\u001b[0m\n\u001b[1;32m    531\u001b[0m \u001b[0;34m\u001b[0m\u001b[0m\n",
      "\u001b[0;32m~/anaconda3/envs/true36/lib/python3.6/site-packages/foyer/atomtyper.py\u001b[0m in \u001b[0;36mfind_atomtypes\u001b[0;34m(topology, forcefield, max_iter)\u001b[0m\n\u001b[1;32m     45\u001b[0m \u001b[0;34m\u001b[0m\u001b[0m\n\u001b[1;32m     46\u001b[0m     \u001b[0m_iterate_rules\u001b[0m\u001b[0;34m(\u001b[0m\u001b[0mrules\u001b[0m\u001b[0;34m,\u001b[0m \u001b[0mtopology\u001b[0m\u001b[0;34m,\u001b[0m \u001b[0mtypemap\u001b[0m\u001b[0;34m,\u001b[0m \u001b[0mmax_iter\u001b[0m\u001b[0;34m=\u001b[0m\u001b[0mmax_iter\u001b[0m\u001b[0;34m)\u001b[0m\u001b[0;34m\u001b[0m\u001b[0;34m\u001b[0m\u001b[0m\n\u001b[0;32m---> 47\u001b[0;31m     \u001b[0m_resolve_atomtypes\u001b[0m\u001b[0;34m(\u001b[0m\u001b[0mtopology\u001b[0m\u001b[0;34m,\u001b[0m \u001b[0mtypemap\u001b[0m\u001b[0;34m)\u001b[0m\u001b[0;34m\u001b[0m\u001b[0;34m\u001b[0m\u001b[0m\n\u001b[0m\u001b[1;32m     48\u001b[0m \u001b[0;34m\u001b[0m\u001b[0m\n\u001b[1;32m     49\u001b[0m     \u001b[0;32mreturn\u001b[0m \u001b[0mtypemap\u001b[0m\u001b[0;34m\u001b[0m\u001b[0;34m\u001b[0m\u001b[0m\n",
      "\u001b[0;32m~/anaconda3/envs/true36/lib/python3.6/site-packages/foyer/atomtyper.py\u001b[0m in \u001b[0;36m_resolve_atomtypes\u001b[0;34m(topology, typemap)\u001b[0m\n\u001b[1;32m    117\u001b[0m         \u001b[0;32melse\u001b[0m\u001b[0;34m:\u001b[0m\u001b[0;34m\u001b[0m\u001b[0;34m\u001b[0m\u001b[0m\n\u001b[1;32m    118\u001b[0m             raise FoyerError(\"Found no types for atom {} ({}).\".format(\n\u001b[0;32m--> 119\u001b[0;31m                 atom_id, atoms[atom_id].element.name))\n\u001b[0m",
      "\u001b[0;31mFoyerError\u001b[0m: Found no types for atom 46 (osmium)."
     ]
    }
   ],
   "source": [
    "structure = system_builder(seed=1)"
   ]
  },
  {
   "cell_type": "code",
   "execution_count": null,
   "metadata": {
    "scrolled": true
   },
   "outputs": [],
   "source": [
    "structure.visualize()"
   ]
  },
  {
   "cell_type": "code",
   "execution_count": null,
   "metadata": {},
   "outputs": [],
   "source": [
    "list(structure.particles())"
   ]
  },
  {
   "cell_type": "markdown",
   "metadata": {},
   "source": [
    "#### Fix overlaps by LAMMPS"
   ]
  },
  {
   "cell_type": "code",
   "execution_count": null,
   "metadata": {},
   "outputs": [],
   "source": [
    "# Command (lmp_mpi) might be different (lmp) depend on the installed lammps version\n",
    "%lmp_mpi -in ../util/mdp_files/in.minimize -log minimize.log"
   ]
  },
  {
   "cell_type": "markdown",
   "metadata": {},
   "source": [
    "#### Energy minimize by GROMACS"
   ]
  },
  {
   "cell_type": "code",
   "execution_count": null,
   "metadata": {},
   "outputs": [],
   "source": [
    "# Convert .xtc to .gro\n",
    "%gmx trjconv -s init.gro -f minimize.xtc -o minimize.gro  -b 1.0 -e 1.0\n",
    "# Grompp\n",
    "%gmx grompp -f util/mdp_files/em.mdp -c minimize.gro -p init.top -n init.ndx -o em.tpr -maxwarn 1\n",
    "# Run GROMACS\n",
    "%gmx mdrun -v -deffnm em -s em.tpr -cpi em.cpt -ntomp 1 -gpu_id 0000000000000000"
   ]
  },
  {
   "cell_type": "markdown",
   "metadata": {},
   "source": [
    "#### NVT Equilibrate by GROMACS"
   ]
  },
  {
   "cell_type": "code",
   "execution_count": null,
   "metadata": {},
   "outputs": [],
   "source": [
    "# Grompp\n",
    "%gmx grompp -f util/mdp_files/nvt.mdp -c em.gro -p init.top -n init.ndx -o nvt.tpr -maxwarn 1\n",
    "# Run GROMACS\n",
    "%gmx mdrun -v -deffnm nvt -s em.tpr -cpi em.cpt -ntomp 1 -gpu_id 0000000000000000"
   ]
  },
  {
   "cell_type": "markdown",
   "metadata": {},
   "source": [
    "#### Compress wih GROMACS"
   ]
  },
  {
   "cell_type": "code",
   "execution_count": null,
   "metadata": {},
   "outputs": [],
   "source": [
    "# Grompp\n",
    "%gmx grompp -f util/mdp_files/compress.mdp -c nvt.gro -p init.top -n init.ndx -o compress.tpr -maxwarn 1\n",
    "# Run GROMACS\n",
    "%gmx mdrun -v -deffnm compress -s em.tpr -cpi em.cpt -ntomp 1 -gpu_id 0000000000000000"
   ]
  },
  {
   "cell_type": "markdown",
   "metadata": {},
   "source": [
    "#### Shearing at 5nN"
   ]
  },
  {
   "cell_type": "code",
   "execution_count": null,
   "metadata": {},
   "outputs": [],
   "source": [
    "# Grompp\n",
    "%gmx grompp -f util/mdp_files/shear_5nN.mdp -c compress.gro -p init.top -n init.ndx -o shear_5nN.tpr -maxwarn 1\n",
    "# Run GROMACS\n",
    "%gmx mdrun -s shear_5nN.tpr -deffnm shear_5nN -cpi shear_5nN.cpt -cpo shear_5nN.cpt -noappend -ntomp 1 -gpu_id 000000000000000"
   ]
  },
  {
   "cell_type": "markdown",
   "metadata": {},
   "source": [
    "#### Shearing at 15nN"
   ]
  },
  {
   "cell_type": "code",
   "execution_count": null,
   "metadata": {},
   "outputs": [],
   "source": [
    "# Grompp\n",
    "%gmx grompp -f util/mdp_files/shear_5nN.mdp -c compress.gro -p init.top -n init.ndx -o shear_5nN.tpr -maxwarn 1\n",
    "# Run GROMACS\n",
    "%gmx mdrun -s shear_15nN.tpr -deffnm shear_15nN -cpi shear_15nN.cpt -cpo shear_15nN.cpt -noappend -ntomp 1 -gpu_id 000000000000000"
   ]
  },
  {
   "cell_type": "markdown",
   "metadata": {},
   "source": [
    "#### Shearing at 25nN"
   ]
  },
  {
   "cell_type": "code",
   "execution_count": null,
   "metadata": {},
   "outputs": [],
   "source": [
    "# Grompp\n",
    "%gmx grompp -f util/mdp_files/shear_5nN.mdp -c compress.gro -p init.top -n init.ndx -o shear_5nN.tpr -maxwarn 1\n",
    "# Run GROMACS\n",
    "%gmx mdrun -s shear_25nN.tpr -deffnm shear_25nN -cpi shear_25nN.cpt -cpo shear_25nN.cpt -noappend -ntomp 1 -gpu_id 000000000000000"
   ]
  },
  {
   "cell_type": "markdown",
   "metadata": {},
   "source": [
    "#### Calculate nematic order"
   ]
  },
  {
   "cell_type": "code",
   "execution_count": null,
   "metadata": {},
   "outputs": [],
   "source": [
    "# Unwrap stuff\n",
    "\n",
    "# Run COF and F0 calculation"
   ]
  }
 ],
 "metadata": {
  "kernelspec": {
   "display_name": "Python 3",
   "language": "python",
   "name": "python3"
  },
  "language_info": {
   "codemirror_mode": {
    "name": "ipython",
    "version": 3
   },
   "file_extension": ".py",
   "mimetype": "text/x-python",
   "name": "python",
   "nbconvert_exporter": "python",
   "pygments_lexer": "ipython3",
   "version": "3.6.7"
  }
 },
 "nbformat": 4,
 "nbformat_minor": 2
}
