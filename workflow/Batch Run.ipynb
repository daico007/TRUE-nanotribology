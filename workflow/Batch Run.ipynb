{
 "cells": [
  {
   "cell_type": "markdown",
   "metadata": {},
   "source": [
    "## Batch run example of nanotribological properties workflow\n",
    "\n",
    "### Background\n",
    "- Using SAM as coating to reduce coefficient of friction and force of adhesion when shearing between two surface\n",
    "- Many variables that can be varied and, hence, makes it a prime candidate for Computational Simulation\n",
    "- Several MD studies focusing on different properties\n",
    "    - Andrew Paper: backbone chain length, chain density, terminal groups\n",
    "    - Current screening project: mixed composition \n",
    "    - Near future project: backbone chemitries\n",
    "- The legacy encourage this research setup to be TRUE\n",
    "    - Future research can continue this project by varing and/or adding more variables based on the original project\n",
    "    \n",
    "### Model\n",
    "- Initialization of two surfaces coated with SAM - varying mixing composition, backbone chainlength, terminal groups\n",
    "- Two surface was then energy minimized through a few steps (by LAMMPS and GROMACS)\n",
    "- The two system is then compressed and sheared against each other (the top surface moving, and the bottom surface fixed)\n",
    "- The output is analyzed with mdanalysis\n",
    "\n",
    "### Simulation Details\n",
    "- Initialze by MoSDeF\n",
    "- Fix overlaps by LAMMPS\n",
    "- Energy Minimize by GROMACS\n",
    "- NVT Equilibrate by GROMACS\n",
    "- Compress by GROMACS\n",
    "- Shearing at 5nN, 15nN, 25nN by GROMACS\n",
    "- Data Analysis with mdanalysis\n",
    "\n",
    "### Screening\n",
    "- Near inifinite combinations means near infinite simulations\n",
    "- Need a way to efficiently manage the data space and workflow\n",
    "    - Signac - Dataspace management\n",
    "    - Signac-flow - Workflow management\n",
    "- Everything is manage under init.py (dataspace) and project.py (workflow)\n",
    "\n",
    "#### Example\n",
    "- Below is an example of how we can use Object Oriented Programing principles to scale up a project and make it TRUE. \n",
    "- For the sake of simplicity, the workflow only includes two steps, a initialization step to set a work space and an system building step. This is to show how we can efficiently iterate through the workspace and control the whole screening project.\n",
    "- All other step of a simulation workflow (energy minimization, equilibration, production) can be done in a similar manner."
   ]
  },
  {
   "cell_type": "markdown",
   "metadata": {},
   "source": [
    "#### System initialization"
   ]
  },
  {
   "cell_type": "code",
   "execution_count": 4,
   "metadata": {},
   "outputs": [
    {
     "name": "stdout",
     "output_type": "stream",
     "text": [
      "/Users/daico007/Documents/Papers/TRUE/TRUE-nanotribology/workflow/example_workspace\n"
     ]
    }
   ],
   "source": [
    "%cd example_workspace"
   ]
  },
  {
   "cell_type": "code",
   "execution_count": 9,
   "metadata": {},
   "outputs": [],
   "source": [
    "!python src/init.py --seed 27 --num-replicas 3"
   ]
  },
  {
   "cell_type": "code",
   "execution_count": 16,
   "metadata": {},
   "outputs": [
    {
     "name": "stdout",
     "output_type": "stream",
     "text": [
      "\u001b[1m\u001b[36m00c24111cd8940d2e54d01f2d4867ba1\u001b[m\u001b[m/ \u001b[1m\u001b[36m878f715c263a3893f529e0dc895467d1\u001b[m\u001b[m/\r\n",
      "\u001b[1m\u001b[36m0852203e5f77d1719a97eb79fd1a7d5a\u001b[m\u001b[m/ \u001b[1m\u001b[36m928231f74074b61c6be16b8b3fcdce04\u001b[m\u001b[m/\r\n",
      "\u001b[1m\u001b[36m2686bab2ce57e099f69e0d168905333f\u001b[m\u001b[m/ \u001b[1m\u001b[36maeb43f9b57798002d24c251216155775\u001b[m\u001b[m/\r\n",
      "\u001b[1m\u001b[36m4de561aea0831535642ae36f59ae119a\u001b[m\u001b[m/ \u001b[1m\u001b[36me4faf91ea19dcff8b9284c29070fa45d\u001b[m\u001b[m/\r\n",
      "\u001b[1m\u001b[36m51908f80b983e6c401f6a4cf147a41a6\u001b[m\u001b[m/ \u001b[1m\u001b[36me9159c656a7ec3fda6bdae042918fbff\u001b[m\u001b[m/\r\n",
      "\u001b[1m\u001b[36m6f8b999b89017a4e5e10f6070a3983eb\u001b[m\u001b[m/ \u001b[1m\u001b[36mecd2f9cafbd0d4f879b0834419b153da\u001b[m\u001b[m/\r\n",
      "\u001b[1m\u001b[36m7a945a5dcbbd45265a550df47b1efa64\u001b[m\u001b[m/ \u001b[1m\u001b[36mf92e7be140dd59cec0da093a8a4efc8d\u001b[m\u001b[m/\r\n",
      "\u001b[1m\u001b[36m7f0c153bc50c1247314ef3bc24e88147\u001b[m\u001b[m/\r\n"
     ]
    }
   ],
   "source": [
    "%ls workspace/"
   ]
  },
  {
   "cell_type": "code",
   "execution_count": null,
   "metadata": {},
   "outputs": [],
   "source": [
    "# Need to make a two step project by signac flow"
   ]
  }
 ],
 "metadata": {
  "kernelspec": {
   "display_name": "Python 3",
   "language": "python",
   "name": "python3"
  },
  "language_info": {
   "codemirror_mode": {
    "name": "ipython",
    "version": 3
   },
   "file_extension": ".py",
   "mimetype": "text/x-python",
   "name": "python",
   "nbconvert_exporter": "python",
   "pygments_lexer": "ipython3",
   "version": "3.6.7"
  }
 },
 "nbformat": 4,
 "nbformat_minor": 2
}
