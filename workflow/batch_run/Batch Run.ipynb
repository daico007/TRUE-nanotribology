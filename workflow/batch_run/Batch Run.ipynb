{
 "cells": [
  {
   "cell_type": "markdown",
   "metadata": {},
   "source": [
    "## Batch run example of nanotribological properties workflow\n",
    "\n",
    "### Background\n",
    "- Using SAM as coating to reduce coefficient of friction and force of adhesion when shearing between two surface\n",
    "- Many variables that can be varied and, hence, makes it a prime candidate for Computational Simulation\n",
    "- Several MD studies focusing on different properties\n",
    "    - Andrew Paper: backbone chain length, chain density, terminal groups\n",
    "    - Current screening project: mixed composition \n",
    "    - Near future project: backbone chemitries\n",
    "- The legacy encourage this research setup to be TRUE\n",
    "    - Future research can continue this project by varing and/or adding more variables based on the original project\n",
    "    \n",
    "### Model\n",
    "- Initialization of two surfaces coated with SAM - varying mixing composition, backbone chainlength, terminal groups\n",
    "- Two surface was then energy minimized through a few steps (by LAMMPS and GROMACS)\n",
    "- The two system is then compressed and sheared against each other (the top surface moving, and the bottom surface fixed)\n",
    "- The output is analyzed with mdanalysis\n",
    "\n",
    "### Simulation Details\n",
    "- Initialze by MoSDeF\n",
    "- Fix overlaps by LAMMPS\n",
    "- Energy Minimize by GROMACS\n",
    "- NVT Equilibrate by GROMACS\n",
    "- Compress by GROMACS\n",
    "- Shearing at 5nN, 15nN, 25nN by GROMACS\n",
    "- Data Analysis with mdanalysis\n",
    "\n",
    "### Screening\n",
    "- Near inifinite combinations means near infinite simulations\n",
    "- Need a way to efficiently manage the data space and workflow\n",
    "    - Signac - Dataspace management\n",
    "    - Signac-flow - Workflow management\n",
    "- Everything is manage under init.py (dataspace) and project.py (workflow)"
   ]
  },
  {
   "cell_type": "markdown",
   "metadata": {},
   "source": [
    "#### System initialization"
   ]
  },
  {
   "cell_type": "code",
   "execution_count": null,
   "metadata": {},
   "outputs": [],
   "source": [
    "# System initialization to create about 3 systems\n",
    "# 3 unique system with 3 duplicate \n",
    "# May just go with the top == bottom monolayer version "
   ]
  },
  {
   "cell_type": "code",
   "execution_count": 1,
   "metadata": {},
   "outputs": [],
   "source": [
    "# Visualize some of them so show that they are produce correctly"
   ]
  },
  {
   "cell_type": "code",
   "execution_count": 2,
   "metadata": {},
   "outputs": [],
   "source": [
    "# Access some info by signac filter to show we can access the data effeciently"
   ]
  },
  {
   "cell_type": "code",
   "execution_count": null,
   "metadata": {},
   "outputs": [],
   "source": [
    "# May or may not have script to submit LAMMPS job "
   ]
  }
 ],
 "metadata": {
  "kernelspec": {
   "display_name": "Python 3",
   "language": "python",
   "name": "python3"
  },
  "language_info": {
   "codemirror_mode": {
    "name": "ipython",
    "version": 3
   },
   "file_extension": ".py",
   "mimetype": "text/x-python",
   "name": "python",
   "nbconvert_exporter": "python",
   "pygments_lexer": "ipython3",
   "version": "3.6.7"
  }
 },
 "nbformat": 4,
 "nbformat_minor": 2
}
