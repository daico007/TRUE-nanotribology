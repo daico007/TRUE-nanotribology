{
 "cells": [
  {
   "cell_type": "markdown",
   "metadata": {},
   "source": [
    "## Single run example of nanotribological properties workflow\n",
    "\n",
    "### Background\n",
    "- Using SAM as coating to reduce coefficient of friction and force of adhesion when shearing between two surface\n",
    "- Many variables that can be varied and, hence, makes it a prime candidate for Computational Simulation\n",
    "- Several MD studies focusing on different properties\n",
    "    - Andrew Paper: backbone chain length, chain density, terminal groups\n",
    "    - Current screening project: mixed composition \n",
    "    - Near future project: backbone chemitries\n",
    "- The legacy encourage this research setup to be TRUE\n",
    "    - Future research can continue this project by varing and/or adding more variables based on the original project\n",
    "    \n",
    "### Model\n",
    "- Initialization of two surfaces coated with SAM - varying mixing composition, backbone chainlength, terminal groups\n",
    "- Two surface was then energy minimized through a few steps (by LAMMPS and GROMACS)\n",
    "- The two system is then compressed and sheared against each other (the top surface moving, and the bottom surface fixed)\n",
    "- The output is analyzed with mdanalysis\n",
    "\n",
    "### Simulation Details\n",
    "- Initialze by MoSDeF\n",
    "- Fix overlaps by LAMMPS\n",
    "- Energy Minimize by GROMACS\n",
    "- NVT Equilibrate by GROMACS\n",
    "- Compress by GROMACS\n",
    "- Shearing at 5nN, 15nN, 25nN by GROMACS\n",
    "- Data Analysis with mdanalysis\n",
    "\n",
    "### Screening\n",
    "- Near inifinite combinations means near infinite simulations\n",
    "- Need a way to efficiently manage the data space and workflow\n",
    "    - Signac - Dataspace management\n",
    "    - Signac-flow - Workflow management\n",
    "- "
   ]
  },
  {
   "cell_type": "markdown",
   "metadata": {},
   "source": [
    "#### System initialization"
   ]
  },
  {
   "cell_type": "code",
   "execution_count": null,
   "metadata": {},
   "outputs": [],
   "source": []
  },
  {
   "cell_type": "markdown",
   "metadata": {},
   "source": [
    "#### Fix overlaps by LAMMPS"
   ]
  },
  {
   "cell_type": "code",
   "execution_count": null,
   "metadata": {},
   "outputs": [],
   "source": []
  },
  {
   "cell_type": "markdown",
   "metadata": {},
   "source": [
    "#### Energy minimize by GROMACS"
   ]
  },
  {
   "cell_type": "code",
   "execution_count": null,
   "metadata": {},
   "outputs": [],
   "source": [
    "# Include conversion steps and grompp "
   ]
  },
  {
   "cell_type": "markdown",
   "metadata": {},
   "source": [
    "#### NVT Equilibrate by GROMACS"
   ]
  },
  {
   "cell_type": "code",
   "execution_count": null,
   "metadata": {},
   "outputs": [],
   "source": [
    "# Include conversion steps and grompp "
   ]
  },
  {
   "cell_type": "markdown",
   "metadata": {},
   "source": [
    "#### Compress wih GROMACS"
   ]
  },
  {
   "cell_type": "code",
   "execution_count": 1,
   "metadata": {},
   "outputs": [],
   "source": [
    "# Include conversion steps and grompp "
   ]
  },
  {
   "cell_type": "markdown",
   "metadata": {},
   "source": [
    "#### Shearing at 5nN"
   ]
  },
  {
   "cell_type": "code",
   "execution_count": null,
   "metadata": {},
   "outputs": [],
   "source": [
    "# Include conversion steps and grompp "
   ]
  },
  {
   "cell_type": "markdown",
   "metadata": {},
   "source": [
    "#### Shearing at 15nN"
   ]
  },
  {
   "cell_type": "code",
   "execution_count": null,
   "metadata": {},
   "outputs": [],
   "source": [
    "# Include conversion steps and grompp "
   ]
  },
  {
   "cell_type": "markdown",
   "metadata": {},
   "source": [
    "#### Shearing at 25nN"
   ]
  },
  {
   "cell_type": "code",
   "execution_count": null,
   "metadata": {},
   "outputs": [],
   "source": [
    "# Include conversion steps and grompp "
   ]
  },
  {
   "cell_type": "markdown",
   "metadata": {},
   "source": [
    "#### Calculating COF and F0"
   ]
  },
  {
   "cell_type": "code",
   "execution_count": null,
   "metadata": {},
   "outputs": [],
   "source": [
    "# Unwrap stuff"
   ]
  }
 ],
 "metadata": {
  "kernelspec": {
   "display_name": "Python 3",
   "language": "python",
   "name": "python3"
  },
  "language_info": {
   "codemirror_mode": {
    "name": "ipython",
    "version": 3
   },
   "file_extension": ".py",
   "mimetype": "text/x-python",
   "name": "python",
   "nbconvert_exporter": "python",
   "pygments_lexer": "ipython3",
   "version": "3.6.7"
  }
 },
 "nbformat": 4,
 "nbformat_minor": 2
}
