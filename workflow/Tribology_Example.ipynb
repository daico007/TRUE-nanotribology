{
 "cells": [
  {
   "cell_type": "markdown",
   "metadata": {},
   "source": [
    "## Example of TRUE nanotribological properties workflow\n",
    "\n",
    "### Background\n",
    "- Using SAM as coating to reduce coefficient of friction and force of adhesion when shearing between two surfaces.\n",
    "- Many variables that can be varied and, hence, makes it a prime candidate for Computational Simulation\n",
    "- Several MD studies focuses on different properties\n",
    "    - Andrew's Paper: backbone chain length, chain density, terminal groups\n",
    "    - Current screening project: mixed composition \n",
    "    - Near future project: backbone chemitries\n",
    "- The legacy encourage this research setup to be TRUE\n",
    "    - Future research can continue this project by varing and/or adding more variables based on the original project\n",
    "    \n",
    "### Model\n",
    "- Initialization of two surfaces coated with SAM - varying mixing composition, backbone chainlength, terminal groups\n",
    "- Two surface was then energy minimized through a few steps (by LAMMPS and GROMACS)\n",
    "- The two system is then compressed and sheared against each other (the top surface moving, and the bottom surface fixed)\n",
    "- Output is analyzed with MDAnalysis\n",
    "\n",
    "### Simulation Details\n",
    "- Initialze with MoSDeF\n",
    "- Fix overlaps with LAMMPS\n",
    "- Energy Minimize with GROMACS\n",
    "- NVT Equilibration with GROMACS\n",
    "- Compress with GROMACS\n",
    "- Shearing at 5nN with GROMACS\n",
    "- Data Analysis with mdanalysis"
   ]
  },
  {
   "cell_type": "markdown",
   "metadata": {},
   "source": [
    "#### System initialization"
   ]
  },
  {
   "cell_type": "code",
   "execution_count": 3,
   "metadata": {},
   "outputs": [],
   "source": [
    "import mbuild\n",
    "from util.helper.functions import system_builder\n",
    "from util.helper.analysis import calc_nematic_order"
   ]
  },
  {
   "cell_type": "code",
   "execution_count": null,
   "metadata": {},
   "outputs": [],
   "source": [
    "# Change into working directory\n",
    "%cd example_simulation"
   ]
  },
  {
   "cell_type": "code",
   "execution_count": null,
   "metadata": {
    "scrolled": false
   },
   "outputs": [],
   "source": [
    "structure = system_builder(seed=1, chainlength=17, num_chains=50)"
   ]
  },
  {
   "cell_type": "code",
   "execution_count": null,
   "metadata": {},
   "outputs": [],
   "source": [
    "structure.visualize()"
   ]
  },
  {
   "cell_type": "markdown",
   "metadata": {},
   "source": [
    "#### Fix overlaps by LAMMPS"
   ]
  },
  {
   "cell_type": "code",
   "execution_count": null,
   "metadata": {},
   "outputs": [],
   "source": [
    "# Command (lmp_mpi) might be different (lmp) depend on the installed lammps version\n",
    "!lmp_mpi -in ../util/mdp_files/in.minimize -log minimize.log"
   ]
  },
  {
   "cell_type": "markdown",
   "metadata": {},
   "source": [
    "#### Energy minimize by GROMACS"
   ]
  },
  {
   "cell_type": "code",
   "execution_count": null,
   "metadata": {},
   "outputs": [],
   "source": [
    "# Convert .xtc to .gro\n",
    "!echo 0| gmx trjconv -s init.gro -f minimize.xtc -o minimize.gro  -b 1.0 -e 1.0\n",
    "# Grompp\n",
    "!gmx grompp -f ../util/mdp_files/em.mdp -c minimize.gro -p init.top -n init.ndx -o em.tpr -maxwarn 2\n",
    "# Run GROMACS\n",
    "!gmx mdrun -v -deffnm em -s em.tpr -cpi em.cpt"
   ]
  },
  {
   "cell_type": "markdown",
   "metadata": {},
   "source": [
    "#### NVT Equilibrate by GROMACS"
   ]
  },
  {
   "cell_type": "code",
   "execution_count": null,
   "metadata": {},
   "outputs": [],
   "source": [
    "# Grompp\n",
    "!gmx grompp -f ../util/mdp_files/nvt.mdp -c em.gro -p init.top -n init.ndx -o nvt.tpr -maxwarn 2\n",
    "# Run GROMACS\n",
    "!gmx mdrun -v -deffnm nvt -s nvt.tpr -cpi nvt.cpt"
   ]
  },
  {
   "cell_type": "markdown",
   "metadata": {},
   "source": [
    "#### Compress wih GROMACS"
   ]
  },
  {
   "cell_type": "code",
   "execution_count": null,
   "metadata": {},
   "outputs": [],
   "source": [
    "# Grompp\n",
    "!gmx grompp -f ../util/mdp_files/compress.mdp -c nvt.gro -p init.top -n init.ndx -o compress.tpr -maxwarn 3\n",
    "# Run GROMACS\n",
    "!gmx mdrun -nt 16 -v -deffnm compress -s compress.tpr -cpi compress.cpt"
   ]
  },
  {
   "cell_type": "markdown",
   "metadata": {},
   "source": [
    "#### Shearing at 5nN"
   ]
  },
  {
   "cell_type": "code",
   "execution_count": null,
   "metadata": {},
   "outputs": [],
   "source": [
    "# Grompp\n",
    "!gmx grompp -f ../util/mdp_files/shear_5nN.mdp -c compress.gro -p init.top -n init.ndx -o shear_5nN.tpr -maxwarn 3\n",
    "# Run GROMACS\n",
    "!gmx mdrun -v -nt 16 -s shear_5nN.tpr -deffnm shear_5nN -cpi shear_5nN.cpt -cpo shear_5nN.cpt -noappend"
   ]
  },
  {
   "cell_type": "markdown",
   "metadata": {},
   "source": [
    "#### Calculate nematic order"
   ]
  },
  {
   "cell_type": "code",
   "execution_count": null,
   "metadata": {},
   "outputs": [],
   "source": [
    "# Unwrap stuff\n",
    "\n",
    "# Calculate nematic order\n",
    "calc_nematic_order(traj_filename=\"shear_5nN-unwrapped.xtc\", top_filename=\"shear_5nN.gro\"\n",
    "                   output_filename=\"shear_5n-S2.txt\", ndx_filename=\"init.ndx\", n_chains=50)"
   ]
  },
  {
   "cell_type": "markdown",
   "metadata": {},
   "source": [
    "### Scaling up\n",
    "\n",
    "- Above is a complete shearing simulation for a single system (a dual-monolayer with a 17 carbon Alkylsilane backbone cap with a methyl terminal group). The ouput result can be used to calculate wide range of tribology properties such as coefficient of friction, force of adhesion, or nematic order (as shown above). However, to study the trends of the se tribological properties induced by the terminal groups, backbone chemistries, or backbone chainlength, etc., we will need to have more than just a few simulations. Hence, design a project with TRUE in mind, will be extremely beneficial in the long run, when we desire to study more variables, extending beyond the original project.\n",
    "- The following example will try to show how, by designing our code following the Object Oriented Principles (OOP) and using a few open-source libraries, we can build a TRUE simulation project, emphasizing at its scalability. "
   ]
  },
  {
   "cell_type": "code",
   "execution_count": null,
   "metadata": {},
   "outputs": [],
   "source": [
    "%cd ../example_workspace/"
   ]
  },
  {
   "cell_type": "code",
   "execution_count": null,
   "metadata": {},
   "outputs": [],
   "source": [
    "!python src/init.py --seed 27 --num-replicas 3 "
   ]
  },
  {
   "cell_type": "code",
   "execution_count": null,
   "metadata": {},
   "outputs": [],
   "source": [
    "!python src/project.py run -o initialize_system"
   ]
  },
  {
   "cell_type": "code",
   "execution_count": null,
   "metadata": {},
   "outputs": [],
   "source": []
  }
 ],
 "metadata": {
  "kernelspec": {
   "display_name": "Python 3",
   "language": "python",
   "name": "python3"
  },
  "language_info": {
   "codemirror_mode": {
    "name": "ipython",
    "version": 3
   },
   "file_extension": ".py",
   "mimetype": "text/x-python",
   "name": "python",
   "nbconvert_exporter": "python",
   "pygments_lexer": "ipython3",
   "version": "3.6.7"
  }
 },
 "nbformat": 4,
 "nbformat_minor": 2
}
